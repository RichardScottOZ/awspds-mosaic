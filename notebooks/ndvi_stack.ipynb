{
 "cells": [
  {
   "cell_type": "markdown",
   "metadata": {},
   "source": [
    "## Installation\n",
    "\n",
    "```\n",
    "$ pip install requests mapboxgl supermercado\n",
    "```"
   ]
  },
  {
   "cell_type": "code",
   "execution_count": null,
   "metadata": {},
   "outputs": [],
   "source": [
    "%pylab inline\n",
    "\n",
    "import os\n",
    "import json\n",
    "import random\n",
    "import requests\n",
    "import datetime\n",
    "from io import BytesIO\n",
    "import urllib.parse\n",
    "\n",
    "from supermercado.burntiles import tile_extrema\n",
    "\n",
    "from mapboxgl.utils import *\n",
    "from mapboxgl.viz import *\n",
    "\n",
    "token = os.environ[\"MAPBOX_ACCESS_TOKEN\"]\n",
    "\n",
    "endpoint = \"https://landsatlive.live\""
   ]
  },
  {
   "cell_type": "markdown",
   "metadata": {},
   "source": [
    "### Create Stack of NDVI values"
   ]
  },
  {
   "cell_type": "code",
   "execution_count": null,
   "metadata": {},
   "outputs": [],
   "source": [
    "# STAC QUERY (sat-api)\n",
    "bounds = [24.98291015625, 36.01356058518153, 40.31982421875, 42.342305278572816] # Turkey\n",
    "\n",
    "# Cloud Filters\n",
    "min_cloud = 0\n",
    "max_cloud = 1\n",
    "\n",
    "# Date Filters\n",
    "date_min=\"2013-01-01\"\n",
    "date_max=\"2019-12-01\"\n",
    "start = datetime.datetime.strptime(date_min, \"%Y-%m-%d\").strftime(\"%Y-%m-%dT00:00:00Z\")\n",
    "end = datetime.datetime.strptime(date_max, \"%Y-%m-%d\").strftime(\"%Y-%m-%dT23:59:59Z\")\n",
    "\n",
    "query = {\n",
    "    \"bbox\": bounds,\n",
    "    \"time\": f\"{start}/{end}\",\n",
    "    \"query\": {\n",
    "        \"eo:sun_elevation\": {\"gt\": 0},\n",
    "        \"landsat:tier\": {\"eq\": \"T1\"},\n",
    "        \"collection\": {\"eq\": \"landsat-8-l1\"},\n",
    "        \"eo:cloud_cover\": {\"gte\": min_cloud, \"lt\": max_cloud}\n",
    "    },\n",
    "}\n",
    "\n",
    "# We post the query to the mosaic endpoint\n",
    "# `optimized_selection: True` is an option to force only one PATH-ROW scene per tile\n",
    "# Because we will use `pixel_selection:\"first\"` this will minimized the number of image fetched\n",
    "r = requests.post(\n",
    "    f\"{endpoint}/mosaic/create\", \n",
    "    json=query,\n",
    "    params = {\n",
    "        \"optimized_selection\": False,\n",
    "        \"maximum_items_per_tile\": 0, # We keep all intersecting scenes\n",
    "        \"seasons\": \"spring\" # this should be a \",\" separated list of seasons\n",
    "    },\n",
    ")\n",
    "results = r.json()"
   ]
  },
  {
   "cell_type": "code",
   "execution_count": null,
   "metadata": {},
   "outputs": [],
   "source": [
    "mosaicid = results[\"name\"]\n",
    "geojson = requests.get(f\"{endpoint}/mosaic/{mosaicid}/geojson\").json()\n",
    "\n",
    "print(\"Number of scenes per Quadkey\")\n",
    "print([(x[\"properties\"][\"quadkey\"], len(x[\"properties\"][\"files\"])) for x in geojson[\"features\"]])"
   ]
  },
  {
   "cell_type": "code",
   "execution_count": null,
   "metadata": {
    "scrolled": false
   },
   "outputs": [],
   "source": [
    "viz = LinestringViz(geojson,\n",
    "    access_token=token,\n",
    "    line_width_default=4,\n",
    "    center=((bounds[0] + bounds[2]) / 2, (bounds[1] + bounds[3]) / 2),\n",
    "    zoom=4,\n",
    ")\n",
    "viz.show()"
   ]
  },
  {
   "cell_type": "code",
   "execution_count": null,
   "metadata": {},
   "outputs": [],
   "source": [
    "# Get Mercator tiles covering the AOI\n",
    "zoom = results[\"maxzoom\"]\n",
    "extrema = tile_extrema(bounds, zoom)\n",
    "tiles = []\n",
    "for x in range(extrema[\"x\"][\"min\"], extrema[\"x\"][\"max\"]):\n",
    "    for y in range(extrema[\"y\"][\"min\"], extrema[\"y\"][\"max\"]):\n",
    "        tiles.append(f\"{zoom}-{x}-{y}\")\n",
    "        \n",
    "tile = tiles[random.randint(0, len(tiles))]\n",
    "z, x, y = list(map(int, tile.split(\"-\")))"
   ]
  },
  {
   "cell_type": "code",
   "execution_count": null,
   "metadata": {},
   "outputs": [],
   "source": [
    "# Create tile url\n",
    "# pixel_selection=\"all\" will create a stack of all scenes available\n",
    "query_params = dict(\n",
    "    expr=\"(b5-b4)/(b5+b4)\",\n",
    "    pixel_selection=\"all\"\n",
    ")\n",
    "\n",
    "# .npy means the endpoint should return a numpy array/list\n",
    "tile_url = f\"{endpoint}/tiles/{mosaicid}/{z}/{x}/{y}.npy?\" + urllib.parse.urlencode(query_params)\n",
    "r = requests.get(tile_url)\n",
    "arr = numpy.load(BytesIO(r.content), allow_pickle=True)\n",
    "\n",
    "# the endpoint should return a list of tiles and masks\n",
    "tiles, masks = arr\n",
    "print(len(tiles))\n",
    "print(len(masks))"
   ]
  },
  {
   "cell_type": "code",
   "execution_count": null,
   "metadata": {},
   "outputs": [],
   "source": [
    "imshow(tiles[0][0])"
   ]
  },
  {
   "cell_type": "code",
   "execution_count": null,
   "metadata": {},
   "outputs": [],
   "source": [
    "imshow(tiles[1][0])"
   ]
  }
 ],
 "metadata": {
  "kernelspec": {
   "display_name": "Python 3",
   "language": "python",
   "name": "python3"
  },
  "language_info": {
   "codemirror_mode": {
    "name": "ipython",
    "version": 3
   },
   "file_extension": ".py",
   "mimetype": "text/x-python",
   "name": "python",
   "nbconvert_exporter": "python",
   "pygments_lexer": "ipython3",
   "version": "3.7.4"
  }
 },
 "nbformat": 4,
 "nbformat_minor": 2
}
