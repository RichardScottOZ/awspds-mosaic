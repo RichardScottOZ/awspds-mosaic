{
 "cells": [
  {
   "cell_type": "markdown",
   "metadata": {},
   "source": [
    "## Enabling ML processes using Mosaics\n",
    "\n",
    "With mosaic-json it's pretty easy to scale your (tile based) Machine learning processes"
   ]
  },
  {
   "cell_type": "code",
   "execution_count": null,
   "metadata": {},
   "outputs": [],
   "source": [
    "import requests\n",
    "import datetime\n",
    "import urllib.parse\n",
    "from concurrent import futures\n",
    "\n",
    "from supermercado.burntiles import tile_extrema\n",
    "\n",
    "endpoint = \"https://landsatlive.live\""
   ]
  },
  {
   "cell_type": "markdown",
   "metadata": {},
   "source": [
    "### Create the mosaic"
   ]
  },
  {
   "cell_type": "code",
   "execution_count": null,
   "metadata": {},
   "outputs": [],
   "source": [
    "# Define AOI\n",
    "bounds = [-6.17431640625, 42.79540065303723, 8.28369140625, 51.0275763378024]\n",
    "\n",
    "# Date Filters\n",
    "start = datetime.datetime.strptime(\"2013-01-01\", \"%Y-%m-%d\").strftime(\"%Y-%m-%dT00:00:00Z\")\n",
    "end = datetime.datetime.strptime(\"2019-12-01\", \"%Y-%m-%d\").strftime(\"%Y-%m-%dT23:59:59Z\")\n",
    "\n",
    "# STAC QUERY (sat-api)\n",
    "query = {\n",
    "    \"bbox\": bounds,\n",
    "    \"time\": f\"{start}/{end}\",\n",
    "    \"query\": {\n",
    "        \"eo:sun_elevation\": {\"gt\": 0},\n",
    "        \"landsat:tier\": {\"eq\": \"T1\"},\n",
    "        \"collection\": {\"eq\": \"landsat-8-l1\"},\n",
    "        \"eo:cloud_cover\": {\"gte\": 0, \"lt\": 5}  # Cloud Filters\n",
    "    },\n",
    "    \"sort\": [{\n",
    "      \"field\": \"eo:cloud_cover\",\n",
    "      \"direction\": \"asc\"\n",
    "    }],\n",
    "}\n",
    "\n",
    "# We post the query to the mosaic endpoint\n",
    "# `optimized_selection: True` is an option to force only one PATH-ROW scene per tile\n",
    "# Because we will use `pixel_selection:\"first\"` this will minimized\n",
    "# the number of image fetched for each tile request\n",
    "results = requests.post(\n",
    "    f\"{endpoint}/mosaic/create\", \n",
    "    json=query,\n",
    "    params={\n",
    "        \"optimized_selection\": True,\n",
    "        \"seasons\": \"spring\"  # this should be a \",\" separated list of seasons\n",
    "    },\n",
    ").json()"
   ]
  },
  {
   "cell_type": "markdown",
   "metadata": {},
   "source": [
    "### Edit the tile URL"
   ]
  },
  {
   "cell_type": "code",
   "execution_count": null,
   "metadata": {},
   "outputs": [],
   "source": [
    "# See https://landsatlive.live/tiles/docs for the list of options you can pass to the tile url\n",
    "query_params = dict(\n",
    "    bands=\"4,3,2\", # True Color RGB\n",
    "    color_ops=\"gamma RGB 3.5, saturation 1.7, sigmoidal RGB 15 0.35\",\n",
    "    pixel_selection=\"first\",\n",
    ")\n",
    "tiles_url = results[\"tiles\"][0] + urllib.parse.urlencode(query_params)"
   ]
  },
  {
   "cell_type": "markdown",
   "metadata": {},
   "source": [
    "### Get the list of mercator tiles"
   ]
  },
  {
   "cell_type": "code",
   "execution_count": null,
   "metadata": {},
   "outputs": [],
   "source": [
    "# Get Mercator tiles covering the AOI\n",
    "zoom = results[\"maxzoom\"]\n",
    "extrema = tile_extrema(bounds, zoom)\n",
    "tiles = []\n",
    "for x in range(extrema[\"x\"][\"min\"], extrema[\"x\"][\"max\"]):\n",
    "    for y in range(extrema[\"y\"][\"min\"], extrema[\"y\"][\"max\"]):\n",
    "        tiles.append(f\"{zoom}-{x}-{y}\")\n",
    "\n",
    "print(len(tiles))"
   ]
  },
  {
   "cell_type": "markdown",
   "metadata": {},
   "source": [
    "### Do something with the tiles"
   ]
  },
  {
   "cell_type": "code",
   "execution_count": null,
   "metadata": {},
   "outputs": [],
   "source": [
    "def worker(tile):\n",
    "    # Do Whatever you want here\n",
    "    # e.g send tile to an inference pipeline\n",
    "    pass\n",
    "\n",
    "\n",
    "with futures.ThreadPoolExecutor() as executor:\n",
    "    executor.map(worker, tiles)"
   ]
  }
 ],
 "metadata": {
  "kernelspec": {
   "display_name": "Python 3",
   "language": "python",
   "name": "python3"
  },
  "language_info": {
   "codemirror_mode": {
    "name": "ipython",
    "version": 3
   },
   "file_extension": ".py",
   "mimetype": "text/x-python",
   "name": "python",
   "nbconvert_exporter": "python",
   "pygments_lexer": "ipython3",
   "version": "3.7.4"
  }
 },
 "nbformat": 4,
 "nbformat_minor": 2
}
